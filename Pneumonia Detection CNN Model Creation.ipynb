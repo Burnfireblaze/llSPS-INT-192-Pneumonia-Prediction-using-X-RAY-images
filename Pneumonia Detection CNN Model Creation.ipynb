{
 "cells": [
  {
   "cell_type": "code",
   "execution_count": 1,
   "metadata": {},
   "outputs": [
    {
     "name": "stderr",
     "output_type": "stream",
     "text": [
      "Using TensorFlow backend.\n",
      "C:\\Users\\srisu\\anaconda3\\lib\\site-packages\\tensorflow\\python\\framework\\dtypes.py:516: FutureWarning: Passing (type, 1) or '1type' as a synonym of type is deprecated; in a future version of numpy, it will be understood as (type, (1,)) / '(1,)type'.\n",
      "  _np_qint8 = np.dtype([(\"qint8\", np.int8, 1)])\n",
      "C:\\Users\\srisu\\anaconda3\\lib\\site-packages\\tensorflow\\python\\framework\\dtypes.py:517: FutureWarning: Passing (type, 1) or '1type' as a synonym of type is deprecated; in a future version of numpy, it will be understood as (type, (1,)) / '(1,)type'.\n",
      "  _np_quint8 = np.dtype([(\"quint8\", np.uint8, 1)])\n",
      "C:\\Users\\srisu\\anaconda3\\lib\\site-packages\\tensorflow\\python\\framework\\dtypes.py:518: FutureWarning: Passing (type, 1) or '1type' as a synonym of type is deprecated; in a future version of numpy, it will be understood as (type, (1,)) / '(1,)type'.\n",
      "  _np_qint16 = np.dtype([(\"qint16\", np.int16, 1)])\n",
      "C:\\Users\\srisu\\anaconda3\\lib\\site-packages\\tensorflow\\python\\framework\\dtypes.py:519: FutureWarning: Passing (type, 1) or '1type' as a synonym of type is deprecated; in a future version of numpy, it will be understood as (type, (1,)) / '(1,)type'.\n",
      "  _np_quint16 = np.dtype([(\"quint16\", np.uint16, 1)])\n",
      "C:\\Users\\srisu\\anaconda3\\lib\\site-packages\\tensorflow\\python\\framework\\dtypes.py:520: FutureWarning: Passing (type, 1) or '1type' as a synonym of type is deprecated; in a future version of numpy, it will be understood as (type, (1,)) / '(1,)type'.\n",
      "  _np_qint32 = np.dtype([(\"qint32\", np.int32, 1)])\n",
      "C:\\Users\\srisu\\anaconda3\\lib\\site-packages\\tensorflow\\python\\framework\\dtypes.py:525: FutureWarning: Passing (type, 1) or '1type' as a synonym of type is deprecated; in a future version of numpy, it will be understood as (type, (1,)) / '(1,)type'.\n",
      "  np_resource = np.dtype([(\"resource\", np.ubyte, 1)])\n",
      "C:\\Users\\srisu\\anaconda3\\lib\\site-packages\\tensorboard\\compat\\tensorflow_stub\\dtypes.py:541: FutureWarning: Passing (type, 1) or '1type' as a synonym of type is deprecated; in a future version of numpy, it will be understood as (type, (1,)) / '(1,)type'.\n",
      "  _np_qint8 = np.dtype([(\"qint8\", np.int8, 1)])\n",
      "C:\\Users\\srisu\\anaconda3\\lib\\site-packages\\tensorboard\\compat\\tensorflow_stub\\dtypes.py:542: FutureWarning: Passing (type, 1) or '1type' as a synonym of type is deprecated; in a future version of numpy, it will be understood as (type, (1,)) / '(1,)type'.\n",
      "  _np_quint8 = np.dtype([(\"quint8\", np.uint8, 1)])\n",
      "C:\\Users\\srisu\\anaconda3\\lib\\site-packages\\tensorboard\\compat\\tensorflow_stub\\dtypes.py:543: FutureWarning: Passing (type, 1) or '1type' as a synonym of type is deprecated; in a future version of numpy, it will be understood as (type, (1,)) / '(1,)type'.\n",
      "  _np_qint16 = np.dtype([(\"qint16\", np.int16, 1)])\n",
      "C:\\Users\\srisu\\anaconda3\\lib\\site-packages\\tensorboard\\compat\\tensorflow_stub\\dtypes.py:544: FutureWarning: Passing (type, 1) or '1type' as a synonym of type is deprecated; in a future version of numpy, it will be understood as (type, (1,)) / '(1,)type'.\n",
      "  _np_quint16 = np.dtype([(\"quint16\", np.uint16, 1)])\n",
      "C:\\Users\\srisu\\anaconda3\\lib\\site-packages\\tensorboard\\compat\\tensorflow_stub\\dtypes.py:545: FutureWarning: Passing (type, 1) or '1type' as a synonym of type is deprecated; in a future version of numpy, it will be understood as (type, (1,)) / '(1,)type'.\n",
      "  _np_qint32 = np.dtype([(\"qint32\", np.int32, 1)])\n",
      "C:\\Users\\srisu\\anaconda3\\lib\\site-packages\\tensorboard\\compat\\tensorflow_stub\\dtypes.py:550: FutureWarning: Passing (type, 1) or '1type' as a synonym of type is deprecated; in a future version of numpy, it will be understood as (type, (1,)) / '(1,)type'.\n",
      "  np_resource = np.dtype([(\"resource\", np.ubyte, 1)])\n"
     ]
    }
   ],
   "source": [
    "#importing the libraries\n",
    "from keras.models import Sequential\n",
    "from keras.layers import Dense\n",
    "from keras.layers import Convolution2D\n",
    "from keras.layers import MaxPooling2D\n",
    "from keras.layers import Flatten"
   ]
  },
  {
   "cell_type": "code",
   "execution_count": 2,
   "metadata": {},
   "outputs": [
    {
     "name": "stdout",
     "output_type": "stream",
     "text": [
      "WARNING:tensorflow:From C:\\Users\\srisu\\anaconda3\\lib\\site-packages\\keras\\backend\\tensorflow_backend.py:74: The name tf.get_default_graph is deprecated. Please use tf.compat.v1.get_default_graph instead.\n",
      "\n"
     ]
    }
   ],
   "source": [
    "#initialize the model\n",
    "model = Sequential()"
   ]
  },
  {
   "cell_type": "code",
   "execution_count": 3,
   "metadata": {},
   "outputs": [
    {
     "name": "stdout",
     "output_type": "stream",
     "text": [
      "WARNING:tensorflow:From C:\\Users\\srisu\\anaconda3\\lib\\site-packages\\keras\\backend\\tensorflow_backend.py:517: The name tf.placeholder is deprecated. Please use tf.compat.v1.placeholder instead.\n",
      "\n",
      "WARNING:tensorflow:From C:\\Users\\srisu\\anaconda3\\lib\\site-packages\\keras\\backend\\tensorflow_backend.py:4138: The name tf.random_uniform is deprecated. Please use tf.random.uniform instead.\n",
      "\n"
     ]
    }
   ],
   "source": [
    "model.add(Convolution2D(32,(3,3),input_shape = (64,64,3),activation = 'relu'))"
   ]
  },
  {
   "cell_type": "code",
   "execution_count": 4,
   "metadata": {},
   "outputs": [
    {
     "name": "stdout",
     "output_type": "stream",
     "text": [
      "WARNING:tensorflow:From C:\\Users\\srisu\\anaconda3\\lib\\site-packages\\keras\\backend\\tensorflow_backend.py:3976: The name tf.nn.max_pool is deprecated. Please use tf.nn.max_pool2d instead.\n",
      "\n"
     ]
    }
   ],
   "source": [
    "model.add(MaxPooling2D(pool_size = (2,2)))"
   ]
  },
  {
   "cell_type": "code",
   "execution_count": 5,
   "metadata": {},
   "outputs": [],
   "source": [
    "model.add(Flatten())"
   ]
  },
  {
   "cell_type": "code",
   "execution_count": 6,
   "metadata": {},
   "outputs": [
    {
     "name": "stderr",
     "output_type": "stream",
     "text": [
      "C:\\Users\\srisu\\anaconda3\\lib\\site-packages\\ipykernel_launcher.py:1: UserWarning: Update your `Dense` call to the Keras 2 API: `Dense(activation=\"relu\", units=128, kernel_initializer=\"uniform\")`\n",
      "  \"\"\"Entry point for launching an IPython kernel.\n"
     ]
    }
   ],
   "source": [
    "model.add(Dense(output_dim = 128 ,init = 'uniform',activation = 'relu'))"
   ]
  },
  {
   "cell_type": "code",
   "execution_count": 7,
   "metadata": {},
   "outputs": [
    {
     "name": "stderr",
     "output_type": "stream",
     "text": [
      "C:\\Users\\srisu\\anaconda3\\lib\\site-packages\\ipykernel_launcher.py:1: UserWarning: Update your `Dense` call to the Keras 2 API: `Dense(activation=\"relu\", units=128, kernel_initializer=\"uniform\")`\n",
      "  \"\"\"Entry point for launching an IPython kernel.\n"
     ]
    }
   ],
   "source": [
    "model.add(Dense(output_dim = 128 ,init = 'uniform',activation = 'relu'))"
   ]
  },
  {
   "cell_type": "code",
   "execution_count": 8,
   "metadata": {},
   "outputs": [
    {
     "name": "stderr",
     "output_type": "stream",
     "text": [
      "C:\\Users\\srisu\\anaconda3\\lib\\site-packages\\ipykernel_launcher.py:1: UserWarning: Update your `Dense` call to the Keras 2 API: `Dense(activation=\"relu\", units=128, kernel_initializer=\"uniform\")`\n",
      "  \"\"\"Entry point for launching an IPython kernel.\n"
     ]
    }
   ],
   "source": [
    "model.add(Dense(output_dim = 128 ,init = 'uniform',activation = 'relu'))"
   ]
  },
  {
   "cell_type": "code",
   "execution_count": 9,
   "metadata": {},
   "outputs": [
    {
     "name": "stderr",
     "output_type": "stream",
     "text": [
      "C:\\Users\\srisu\\anaconda3\\lib\\site-packages\\ipykernel_launcher.py:1: UserWarning: Update your `Dense` call to the Keras 2 API: `Dense(activation=\"relu\", units=128, kernel_initializer=\"uniform\")`\n",
      "  \"\"\"Entry point for launching an IPython kernel.\n"
     ]
    }
   ],
   "source": [
    "model.add(Dense(output_dim = 128 ,init = 'uniform',activation = 'relu'))"
   ]
  },
  {
   "cell_type": "code",
   "execution_count": 10,
   "metadata": {},
   "outputs": [
    {
     "name": "stderr",
     "output_type": "stream",
     "text": [
      "C:\\Users\\srisu\\anaconda3\\lib\\site-packages\\ipykernel_launcher.py:1: UserWarning: Update your `Dense` call to the Keras 2 API: `Dense(activation=\"sigmoid\", units=1, kernel_initializer=\"uniform\")`\n",
      "  \"\"\"Entry point for launching an IPython kernel.\n"
     ]
    }
   ],
   "source": [
    "model.add(Dense(output_dim = 1,activation = 'sigmoid',init ='uniform'))"
   ]
  },
  {
   "cell_type": "code",
   "execution_count": 11,
   "metadata": {},
   "outputs": [],
   "source": [
    "from keras.preprocessing.image import ImageDataGenerator\n",
    "train_datagen = ImageDataGenerator(rescale = 1./255,shear_range = 0.2,zoom_range = 0.2,horizontal_flip = True)\n",
    "test_datagen =ImageDataGenerator(rescale = 1)\n"
   ]
  },
  {
   "cell_type": "code",
   "execution_count": 12,
   "metadata": {},
   "outputs": [
    {
     "name": "stdout",
     "output_type": "stream",
     "text": [
      "Found 5216 images belonging to 2 classes.\n",
      "Found 624 images belonging to 2 classes.\n"
     ]
    }
   ],
   "source": [
    "x_train = train_datagen.flow_from_directory(r'C:\\Users\\srisu\\Downloads\\Pneumonia Detection Dataset\\train',target_size = (64,64),batch_size = 16, class_mode = 'binary')\n",
    "x_test =  test_datagen.flow_from_directory(r'C:\\Users\\srisu\\Downloads\\Pneumonia Detection Dataset\\test',target_size = (64,64),batch_size = 16, class_mode = 'binary')"
   ]
  },
  {
   "cell_type": "code",
   "execution_count": 13,
   "metadata": {},
   "outputs": [
    {
     "name": "stdout",
     "output_type": "stream",
     "text": [
      "{'NORMAL': 0, 'PNEUMONIA': 1}\n"
     ]
    }
   ],
   "source": [
    "print(x_train.class_indices)"
   ]
  },
  {
   "cell_type": "code",
   "execution_count": 14,
   "metadata": {},
   "outputs": [
    {
     "name": "stdout",
     "output_type": "stream",
     "text": [
      "WARNING:tensorflow:From C:\\Users\\srisu\\anaconda3\\lib\\site-packages\\keras\\optimizers.py:790: The name tf.train.Optimizer is deprecated. Please use tf.compat.v1.train.Optimizer instead.\n",
      "\n",
      "WARNING:tensorflow:From C:\\Users\\srisu\\anaconda3\\lib\\site-packages\\keras\\backend\\tensorflow_backend.py:3376: The name tf.log is deprecated. Please use tf.math.log instead.\n",
      "\n",
      "WARNING:tensorflow:From C:\\Users\\srisu\\anaconda3\\lib\\site-packages\\tensorflow\\python\\ops\\nn_impl.py:180: add_dispatch_support.<locals>.wrapper (from tensorflow.python.ops.array_ops) is deprecated and will be removed in a future version.\n",
      "Instructions for updating:\n",
      "Use tf.where in 2.0, which has the same broadcast rule as np.where\n"
     ]
    }
   ],
   "source": [
    "model.compile(loss = 'binary_crossentropy',optimizer = \"adam\",metrics = [\"accuracy\"])"
   ]
  },
  {
   "cell_type": "code",
   "execution_count": 15,
   "metadata": {
    "scrolled": true
   },
   "outputs": [
    {
     "name": "stdout",
     "output_type": "stream",
     "text": [
      "WARNING:tensorflow:From C:\\Users\\srisu\\anaconda3\\lib\\site-packages\\keras\\backend\\tensorflow_backend.py:986: The name tf.assign_add is deprecated. Please use tf.compat.v1.assign_add instead.\n",
      "\n",
      "Epoch 1/30\n",
      "326/326 [==============================] - 190s 582ms/step - loss: 0.3805 - acc: 0.8278 - val_loss: 3.9670 - val_acc: 0.7500\n",
      "Epoch 2/30\n",
      "326/326 [==============================] - 198s 608ms/step - loss: 0.2356 - acc: 0.9026 - val_loss: 3.4749 - val_acc: 0.7797\n",
      "Epoch 3/30\n",
      "326/326 [==============================] - 222s 682ms/step - loss: 0.2115 - acc: 0.9208 - val_loss: 2.1654 - val_acc: 0.8625\n",
      "Epoch 4/30\n",
      "326/326 [==============================] - 210s 644ms/step - loss: 0.1924 - acc: 0.9252 - val_loss: 2.2771 - val_acc: 0.8562\n",
      "Epoch 5/30\n",
      "326/326 [==============================] - 195s 599ms/step - loss: 0.1649 - acc: 0.9379 - val_loss: 2.1782 - val_acc: 0.8625\n",
      "Epoch 6/30\n",
      "326/326 [==============================] - 192s 589ms/step - loss: 0.1620 - acc: 0.9367 - val_loss: 3.4454 - val_acc: 0.7812\n",
      "Epoch 7/30\n",
      "326/326 [==============================] - 192s 588ms/step - loss: 0.1581 - acc: 0.9377 - val_loss: 5.1952 - val_acc: 0.6734\n",
      "Epoch 8/30\n",
      "326/326 [==============================] - 197s 605ms/step - loss: 0.1537 - acc: 0.9408 - val_loss: 3.7021 - val_acc: 0.7672\n",
      "Epoch 9/30\n",
      "326/326 [==============================] - 196s 600ms/step - loss: 0.1408 - acc: 0.9482 - val_loss: 5.6047 - val_acc: 0.6484\n",
      "Epoch 10/30\n",
      "326/326 [==============================] - 196s 601ms/step - loss: 0.1421 - acc: 0.9448 - val_loss: 4.2615 - val_acc: 0.7328\n",
      "Epoch 11/30\n",
      "326/326 [==============================] - 195s 597ms/step - loss: 0.1287 - acc: 0.9517 - val_loss: 5.1055 - val_acc: 0.6781\n",
      "Epoch 12/30\n",
      "326/326 [==============================] - 202s 620ms/step - loss: 0.1377 - acc: 0.9446 - val_loss: 5.2070 - val_acc: 0.6734\n",
      "Epoch 13/30\n",
      "326/326 [==============================] - 226s 692ms/step - loss: 0.1356 - acc: 0.9459 - val_loss: 4.3970 - val_acc: 0.7234\n",
      "Epoch 14/30\n",
      "326/326 [==============================] - 204s 625ms/step - loss: 0.1380 - acc: 0.9486 - val_loss: 5.1654 - val_acc: 0.6719\n",
      "Epoch 15/30\n",
      "326/326 [==============================] - 194s 596ms/step - loss: 0.1244 - acc: 0.9503 - val_loss: 5.1317 - val_acc: 0.6781\n",
      "Epoch 16/30\n",
      "326/326 [==============================] - 201s 616ms/step - loss: 0.1234 - acc: 0.9525 - val_loss: 3.5181 - val_acc: 0.7766\n",
      "Epoch 17/30\n",
      "326/326 [==============================] - 195s 598ms/step - loss: 0.1243 - acc: 0.9532 - val_loss: 4.8082 - val_acc: 0.6969\n",
      "Epoch 18/30\n",
      "326/326 [==============================] - 246s 755ms/step - loss: 0.1107 - acc: 0.9597 - val_loss: 4.1445 - val_acc: 0.7391\n",
      "Epoch 19/30\n",
      "326/326 [==============================] - 222s 681ms/step - loss: 0.0993 - acc: 0.9618 - val_loss: 4.3251 - val_acc: 0.7281\n",
      "Epoch 20/30\n",
      "326/326 [==============================] - 223s 683ms/step - loss: 0.1129 - acc: 0.9567 - val_loss: 5.3559 - val_acc: 0.6641\n",
      "Epoch 21/30\n",
      "326/326 [==============================] - 205s 629ms/step - loss: 0.1177 - acc: 0.9549 - val_loss: 4.7487 - val_acc: 0.7000\n",
      "Epoch 22/30\n",
      "326/326 [==============================] - 199s 610ms/step - loss: 0.1123 - acc: 0.9607 - val_loss: 5.6580 - val_acc: 0.6438\n",
      "Epoch 23/30\n",
      "326/326 [==============================] - 194s 597ms/step - loss: 0.1077 - acc: 0.9590 - val_loss: 5.6299 - val_acc: 0.6469\n",
      "Epoch 24/30\n",
      "326/326 [==============================] - 190s 583ms/step - loss: 0.1091 - acc: 0.9572 - val_loss: 4.0581 - val_acc: 0.7453\n",
      "Epoch 25/30\n",
      "326/326 [==============================] - 248s 759ms/step - loss: 0.1042 - acc: 0.9613 - val_loss: 5.9535 - val_acc: 0.6266\n",
      "Epoch 26/30\n",
      "326/326 [==============================] - 281s 863ms/step - loss: 0.0990 - acc: 0.9590 - val_loss: 5.0570 - val_acc: 0.6828\n",
      "Epoch 27/30\n",
      "326/326 [==============================] - 295s 905ms/step - loss: 0.0941 - acc: 0.9645 - val_loss: 5.8788 - val_acc: 0.6312\n",
      "Epoch 28/30\n",
      "326/326 [==============================] - 281s 863ms/step - loss: 0.1118 - acc: 0.9595 - val_loss: 5.8298 - val_acc: 0.6344\n",
      "Epoch 29/30\n",
      "326/326 [==============================] - 282s 866ms/step - loss: 0.0963 - acc: 0.9640 - val_loss: 4.5607 - val_acc: 0.7141\n",
      "Epoch 30/30\n",
      "326/326 [==============================] - 282s 864ms/step - loss: 0.0905 - acc: 0.9674 - val_loss: 5.2577 - val_acc: 0.6703\n"
     ]
    },
    {
     "data": {
      "text/plain": [
       "<keras.callbacks.History at 0x1cc7e5cef48>"
      ]
     },
     "execution_count": 15,
     "metadata": {},
     "output_type": "execute_result"
    }
   ],
   "source": [
    "model.fit_generator(x_train, steps_per_epoch = 326,epochs = 30,validation_data = x_test,validation_steps = 40)"
   ]
  },
  {
   "cell_type": "code",
   "execution_count": 17,
   "metadata": {},
   "outputs": [],
   "source": [
    "model.save(\"PneumoniaPrediction.h5\")"
   ]
  },
  {
   "cell_type": "code",
   "execution_count": 18,
   "metadata": {},
   "outputs": [
    {
     "name": "stdout",
     "output_type": "stream",
     "text": [
      "The paitent has Pneumonia\n",
      "The paitent is Normal\n"
     ]
    }
   ],
   "source": [
    "from keras.models import load_model\n",
    "from keras.preprocessing import image\n",
    "import numpy as np\n",
    "import cv2"
   ]
  },
  {
   "cell_type": "code",
   "execution_count": 19,
   "metadata": {},
   "outputs": [],
   "source": [
    "model = load_model(\"PneumoniaPrediction.h5\")"
   ]
  },
  {
   "cell_type": "code",
   "execution_count": 20,
   "metadata": {},
   "outputs": [],
   "source": [
    "img = image.load_img(r'C:\\Users\\srisu\\Downloads\\Pneumonia Detection Dataset\\val\\PNEUMONIA\\person1947_bacteria_4876.jpeg',target_size = (64,64))  #Elephant\n",
    "x = image.img_to_array(img)\n",
    "x = np.expand_dims(x,axis=0)"
   ]
  },
  {
   "cell_type": "code",
   "execution_count": 21,
   "metadata": {},
   "outputs": [],
   "source": [
    "pred = model.predict_classes(x)"
   ]
  },
  {
   "cell_type": "code",
   "execution_count": 22,
   "metadata": {},
   "outputs": [
    {
     "name": "stdout",
     "output_type": "stream",
     "text": [
      "The paitent has Pneumonia\n"
     ]
    }
   ],
   "source": [
    "if(pred==0):\n",
    "    print(\"The paitent is Normal\")\n",
    "elif(pred==1):\n",
    "    print(\"The paitent has Pneumonia\")"
   ]
  },
  {
   "cell_type": "code",
   "execution_count": 23,
   "metadata": {},
   "outputs": [],
   "source": [
    "img = image.load_img(r'C:\\Users\\srisu\\Downloads\\Pneumonia Detection Dataset\\val\\NORMAL\\NORMAL2-IM-1440-0001.jpeg',target_size = (64,64))    #Bear\n",
    "x = image.img_to_array(img)\n",
    "x = np.expand_dims(x,axis=0)"
   ]
  },
  {
   "cell_type": "code",
   "execution_count": 25,
   "metadata": {},
   "outputs": [],
   "source": [
    "pred = model.predict_classes(x)"
   ]
  },
  {
   "cell_type": "code",
   "execution_count": 26,
   "metadata": {},
   "outputs": [
    {
     "name": "stdout",
     "output_type": "stream",
     "text": [
      "The paitent is Normal\n"
     ]
    }
   ],
   "source": [
    "if(pred==0):\n",
    "    print(\"The paitent is Normal\")\n",
    "elif(pred==1):\n",
    "    print(\"The paitent has Pneumonia\")"
   ]
  },
  {
   "cell_type": "markdown",
   "metadata": {},
   "source": [
    "# All are predicted with 96.7% accuracy"
   ]
  }
 ],
 "metadata": {
  "kernelspec": {
   "display_name": "Python 3",
   "language": "python",
   "name": "python3"
  },
  "language_info": {
   "codemirror_mode": {
    "name": "ipython",
    "version": 3
   },
   "file_extension": ".py",
   "mimetype": "text/x-python",
   "name": "python",
   "nbconvert_exporter": "python",
   "pygments_lexer": "ipython3",
   "version": "3.7.6"
  }
 },
 "nbformat": 4,
 "nbformat_minor": 4
}
